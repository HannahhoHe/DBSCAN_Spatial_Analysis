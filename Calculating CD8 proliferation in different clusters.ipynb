{
 "cells": [
  {
   "cell_type": "code",
   "execution_count": null,
   "metadata": {},
   "outputs": [],
   "source": [
    "import pandas as pd\n",
    "from pathlib import Path\n",
    "import os\n",
    "import numpy as np\n",
    "import fnmatch\n",
    "from plotnine import *\n",
    "import matplotlib.pyplot as plt\n",
    "import seaborn as sns"
   ]
  },
  {
   "cell_type": "code",
   "execution_count": null,
   "metadata": {},
   "outputs": [],
   "source": [
    "ProTcell_FolderLocation=r\"C:\\Users\\data\"  \n",
    "dir=Path(ProTcell_FolderLocation)\n",
    "os.chdir(ProTcell_FolderLocation)\n",
    "\n",
    "# Ratio\n",
    "for f in os.listdir(dir):\n",
    "    if f.endswith(\".txt\"):\n",
    "        df=pd.read_csv(f,sep=\",\")\n",
    "        if (len(df[(df[\"Inside cluster?\"]==\"Yes\"\n",
    "                           )&(df[\"Phenotype\"]==\"CD8+Ki-67+\")])+len(df[(df[\"Inside cluster?\"]==\"Yes\")&(df[\"Phenotype\"]==\"CD8+Ki-67-\")]))!=0:\n",
    "            RatioOfProliferation = len(df[(df[\"Inside cluster?\"]==\"Yes\")&(df[\"Phenotype\"]==\"CD8+Ki-67+\")])/(len(df[(df[\"Inside cluster?\"]==\"Yes\"\n",
    "                               )&(df[\"Phenotype\"]==\"CD8+Ki-67+\")])+len(df[(df[\"Inside cluster?\"]==\"Yes\")&(df[\"Phenotype\"]==\"CD8+Ki-67-\")]))\n",
    "            data = pd.DataFrame({\"Sample\":f,\"Ratio\":[RatioOfProliferation]})\n",
    "            data.to_csv(r\"C:\\output\"+\"\\\\\"+\"Ratio_\"+f+\".txt\")"
   ]
  },
  {
   "cell_type": "code",
   "execution_count": null,
   "metadata": {},
   "outputs": [],
   "source": [
    "file = []\n",
    "input_location = r\"C:\\output\"\n",
    "output_location = r\"C:\\result\"\n",
    "dir=Path(input_location)\n",
    "os.chdir(input_location)\n",
    "all_files = os.listdir(dir)\n",
    "for f in os.listdir(dir):\n",
    "    if f.startswith(\"Ratio_\"):\n",
    "        file.append(pd.read_csv(f))\n",
    "        Results = pd.concat(file)\n",
    "Results.to_csv(output_location + \"\\\\\" + \"type_Cluster.txt\")\n",
    "Results.head(5)"
   ]
  }
 ],
 "metadata": {
  "kernelspec": {
   "display_name": "Python 3",
   "language": "python",
   "name": "python3"
  },
  "language_info": {
   "codemirror_mode": {
    "name": "ipython",
    "version": 3
   },
   "file_extension": ".py",
   "mimetype": "text/x-python",
   "name": "python",
   "nbconvert_exporter": "python",
   "pygments_lexer": "ipython3",
   "version": "3.8.5"
  }
 },
 "nbformat": 4,
 "nbformat_minor": 4
}
