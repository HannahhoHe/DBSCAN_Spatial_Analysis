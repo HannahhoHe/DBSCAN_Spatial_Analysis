{
 "cells": [
  {
   "cell_type": "code",
   "execution_count": null,
   "metadata": {
    "scrolled": true
   },
   "outputs": [],
   "source": [
    "import pandas as pd\n",
    "from pathlib import Path\n",
    "import os\n",
    "import numpy as np\n",
    "import fnmatch\n",
    "from plotnine import *\n",
    "import matplotlib.pyplot as plt\n",
    "import seaborn as sns\n",
    "from descartes import PolygonPatch\n",
    "import alphashape\n",
    "from shapely.geometry import Point\n",
    "from shapely.geometry import Polygon\n",
    "from shapely.geometry import Point\n",
    "import math\n",
    "\n",
    "\n",
    "ProTcell_FolderLocation=r\"C:\\Users\\data\"  \n",
    "dir=Path(ProTcell_FolderLocation)\n",
    "os.chdir(ProTcell_FolderLocation)\n",
    "\n",
    "# Tcell\n",
    "for f in os.listdir(dir):\n",
    "    if f.endswith(\".txt\"):\n",
    "        dfNewT=pd.read_csv(f,sep=\",\")\n",
    "        cDC1fov_FolderLocation=r\"C:\\Users\\data\\2\"  \n",
    "        dir=Path(cDC1fov_FolderLocation)\n",
    "        for f in os.listdir(dir):\n",
    "            if fnmatch.fnmatch(f, \"*\"+dfNewT[\"Sample Name\"][1].split(\"x\")[0].replace(\" \",\"\")+\"*\"):\n",
    "            #if fnmatch.fnmatch(f, \"*\"+\"14346-1-38\"+\"*\"):\n",
    "                dfcDC1fov=pd.read_csv(cDC1fov_FolderLocation+\"\\\\\"+f,sep=\",\")\n",
    "                if \"Cell.X.Position\" in dfcDC1fov.columns:\n",
    "                    dfcDC1fov = dfcDC1fov[[\"Cell.X.Position\",\"Cell.Y.Position\",\"DBSCAN Cluster\"]].dropna().round(1)\n",
    "                    dfcDC1fov = dfcDC1fov.rename(columns={\"Cell.X.Position\":\"X\",\"Cell.Y.Position\":\"Y\"})\n",
    "                elif \"Cell X Position NEW\" in dfcDC1fov.columns:\n",
    "                    dfcDC1fov = dfcDC1fov[[\"Cell X Position NEW\",\"Cell Y Position NEW\",\"DBSCAN Cluster\"]].dropna().round(1)\n",
    "                    dfcDC1fov = dfcDC1fov.rename(columns={\"Cell X Position NEW\":\"X\",\"Cell Y Position NEW\":\"Y\"})"
   ]
  },
  {
   "cell_type": "code",
   "execution_count": null,
   "metadata": {},
   "outputs": [],
   "source": [
    "# import cluterType for the sample\n",
    "clusterType = pd.read_csv(r\"C:\\Users\\data\\c_Type.txt\")\n",
    "cluster = clusterType[clusterType[\"Pt\"].str.match(dfNewT[\"Sample Name\"][0].split(\"x\")[0].replace(\" \",\"\"))][[\"Pt\",\"Cluster\",\"c_Type\"]]\n",
    "#cluster = clusterType[clusterType[\"Pt\"].str.match(\"14346-1-38 A1x9\")][[\"Pt\",\"Cluster\",\"c_Type\"]]\n",
    "\n",
    "# Define hetero and homos\n",
    "het = dfcDC1fov[dfcDC1fov[\"DBSCAN Cluster\"].isin([cluster[(cluster.c_Type)==\"Het\"].Cluster.to_list()][0])] \n",
    "homocDC1 = dfcDC1fov[dfcDC1fov[\"DBSCAN Cluster\"].isin([cluster[(cluster.c_Type)==\"cDC1-h\"].Cluster.to_list()][0])]\n",
    "homoCD1a = dfcDC1fov[dfcDC1fov[\"DBSCAN Cluster\"].isin([cluster[(cluster.c_Type)==\"CD1a-h\"].Cluster.to_list()][0])]\n",
    "\n",
    "alpha = 0.01\n",
    "\n",
    "##Create polygon for dfh141XYs:\n",
    "def ifTcellsWithinCluster(typeof,a):\n",
    "    dr4=[]\n",
    "    for i in typeof[\"DBSCAN Cluster\"].unique():\n",
    "        Xp=typeof[(typeof[\"DBSCAN Cluster\"]==i)].X\n",
    "        Yp=typeof[(typeof[\"DBSCAN Cluster\"]==i)].Y\n",
    "        pts=list(zip(Xp, Yp))\n",
    "        alpha_shape=alphashape.alphashape(pts, alpha)  \n",
    "\n",
    "        Xmax=Xp.max()\n",
    "        Xmin=Xp.min()\n",
    "        Ymax=Yp.max()\n",
    "        Ymin=Yp.min()\n",
    "\n",
    "        # T cell file\n",
    "        dfNewTX=dfNewT[(dfNewT.X<Xmax) & (dfNewT.X>Xmin)]\n",
    "        dfNewTXy=dfNewTX[(dfNewTX.Y<Ymax) & (dfNewTX.Y>Ymin)]\n",
    "        TcellPoints=list(zip(dfNewTXy.X,dfNewTXy.Y))\n",
    "\n",
    "        # Generate Point(TcellPoint) and run alphasphere    \n",
    "        Data, Booleans=[],[]\n",
    "        for j in TcellPoints:\n",
    "            eachPoint = Point(j)\n",
    "            if eachPoint.within(alpha_shape)==True:\n",
    "                Data.append(j)\n",
    "                Booleans.append(\"Yes\")\n",
    "            else:\n",
    "                Data.append(j)\n",
    "                Booleans.append(\"No\")\n",
    "        dr4.append(pd.DataFrame({\"Inside cluster?\":Booleans, \"Data\": Data}))\n",
    "\n",
    "    typeof=pd.concat(dr4)\n",
    "    x, y = zip(*typeof[\"Data\"])\n",
    "    typeof[\"X\"]=x\n",
    "    typeof[\"Y\"]=y\n",
    "    Tcell = pd.merge(dfNewT,typeof, on=[\"X\",\"Y\"], how=\"inner\")\n",
    "    Tcell.to_csv(r\"C:\\Users\\output\"+\"\\\\\"+str(a)+\n",
    "                 dfNewT[\"Sample Name\"][0].split(\"x\")[0].replace(\" \",\"\")+\".txt\")\n",
    "    \n",
    "def main():\n",
    "    ifTcellsWithinCluster(het, \"het\")\n",
    "    ifTcellsWithinCluster(homocDC1, \"cDC1-h\")\n",
    "    ifTcellsWithinCluster(homoCD1a, \"CD1a-h\")\n",
    "\n",
    "if __name__ == '__main__':\n",
    "    main()"
   ]
  },
  {
   "cell_type": "code",
   "execution_count": null,
   "metadata": {},
   "outputs": [],
   "source": [
    "# To plot (at one cluster and look at alphashape vs. points)\n",
    "#s=HeteroData.Data\n",
    "#fig, ax = plt.subplots()\n",
    "#ax.scatter(*zip(*s))\n",
    "#ax.add_patch(PolygonPatch(alpha_shape, alpha=1))\n",
    "#plt.show()"
   ]
  },
  {
   "cell_type": "code",
   "execution_count": null,
   "metadata": {},
   "outputs": [],
   "source": [
    "#clusterType[\"Pt\"].unique()"
   ]
  },
  {
   "cell_type": "code",
   "execution_count": null,
   "metadata": {},
   "outputs": [],
   "source": []
  }
 ],
 "metadata": {
  "kernelspec": {
   "display_name": "Python 3",
   "language": "python",
   "name": "python3"
  },
  "language_info": {
   "codemirror_mode": {
    "name": "ipython",
    "version": 3
   },
   "file_extension": ".py",
   "mimetype": "text/x-python",
   "name": "python",
   "nbconvert_exporter": "python",
   "pygments_lexer": "ipython3",
   "version": "3.8.5"
  }
 },
 "nbformat": 4,
 "nbformat_minor": 2
}
