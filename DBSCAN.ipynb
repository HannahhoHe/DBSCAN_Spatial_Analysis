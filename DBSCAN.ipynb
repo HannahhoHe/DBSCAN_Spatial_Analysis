{
 "cells": [
  {
   "cell_type": "code",
   "execution_count": 168,
   "metadata": {},
   "outputs": [],
   "source": [
    "import warnings\n",
    "warnings.filterwarnings(\"ignore\")\n",
    "import os\n",
    "from pathlib import Path\n",
    "import pandas as pd\n",
    "import numpy as np\n",
    "from sklearn.cluster import DBSCAN\n",
    "import matplotlib.pyplot as plt\n",
    "import seaborn as sns"
   ]
  },
  {
   "cell_type": "code",
   "execution_count": null,
   "metadata": {},
   "outputs": [],
   "source": [
    "\n",
    "# I/O files\n",
    "# Note: before running, create a folder in output_location\n",
    "# NoTE: before running, locate all the data files under folder_location \n",
    "output_location = r\"C:\\data\\output\"\n",
    "folder_location = r\"C:\\data\\input\"\n",
    "dir=Path(folder_location)\n",
    "all_files = os.listdir(dir)\n",
    "List, Pts =[],[]\n",
    "for f in all_files:\n",
    "    if f.endswith(\".csv\"):\n",
    "        df = pd.read_csv(folder_location +\"/\" + f, sep=\",\")\n",
    "        Pts.append(folder_location +\"/\" + f)\n",
    "        List.append(df) \n",
    "        \n",
    "# In each file, extract X, Y cell coordinates, run <dbscan>, output as an individual file   \n",
    "for k in np.arange(0, len(Pts)):\n",
    "    List[k] = List[k].rename(columns={\"Cell X Position NEW\":\"Cell.X.Position\",\"Cell Y Position NEW\":\"Cell.Y.Position\",\n",
    "                                     \"Complex Phenotype\":\"Complex.Phenotype\"})\n",
    "    \n",
    "    # extract for \"target cells\" (cells of interest) for clustering analysis\n",
    "    ListTargetCells=List[k][~List[k].Phenotype.isin([\"CD8+\",\"Others\"])]\n",
    "    data = pd.DataFrame({\"x\": ListTargetCells[\"Cell.X.Position\"], \"y\": ListTargetCells[\"Cell.Y.Position\"]}).values.tolist()\n",
    "    X = np.array(data)\n",
    "    # dbscan\n",
    "    db = DBSCAN(eps=70, min_samples=7).fit(X)\n",
    "    labels = db.labels_\n",
    "    \n",
    "    # Format the results\n",
    "    # Raw data plus cluster\n",
    "    XY = pd.DataFrame(X, columns=[\"Cell.X.Position\",\"Cell.Y.Position\"])\n",
    "    Cluster = pd.DataFrame(labels, columns =[\"Cluster\"])\n",
    "    XYCluster=pd.concat([XY, Cluster], axis=1)\n",
    "    OutputFile = pd.merge(List[k],XYCluster, on=[\"Cell.X.Position\",\"Cell.Y.Position\"], how=\"outer\")\n",
    "    OutputFile.to_csv(output_location +\"\\\\\"+ Pts[k].split(\"/\")[1])\n",
    "    # Only the target-cell information\n",
    "    OutputFile_ = OutputFile[[\"Path\",\"Complex.Phenotype\",\"Cell.X.Position\",\n",
    "                              \"Cell.Y.Position\",\"Cluster\"]]\n",
    "    OutputFile_.to_csv(output_location +\"\\\\\"+ \"ClusterCells_\" + Pts[k].split(\"/\")[1])\n",
    "    \n",
    "\n",
    "# Put output files to one file \n",
    "file = []\n",
    "dir=Path(output_location)\n",
    "all_files = os.listdir(dir)\n",
    "for f in all_files:\n",
    "    if f.startswith(\"ClusterCells_\"):\n",
    "        file.append(pd.read_csv(f))\n",
    "        Results = pd.concat(file)\n",
    "Results.to_csv(output_location + \"\\\\\" + \"Results_all.txt\")\n",
    "Results.head(5)"
   ]
  }
 ],
 "metadata": {
  "kernelspec": {
   "display_name": "Python 3",
   "language": "python",
   "name": "python3"
  },
  "language_info": {
   "codemirror_mode": {
    "name": "ipython",
    "version": 3
   },
   "file_extension": ".py",
   "mimetype": "text/x-python",
   "name": "python",
   "nbconvert_exporter": "python",
   "pygments_lexer": "ipython3",
   "version": "3.8.2"
  }
 },
 "nbformat": 4,
 "nbformat_minor": 4
}
