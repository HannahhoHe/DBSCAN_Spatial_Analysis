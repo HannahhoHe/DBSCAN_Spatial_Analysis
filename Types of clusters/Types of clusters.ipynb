{
 "cells": [
  {
   "cell_type": "code",
   "execution_count": 25,
   "metadata": {},
   "outputs": [],
   "source": [
    "# Cluster Type\n",
    "df_DCs = pd.read_csv(\"C:/Data/DCs1_res/Res_all.txt\")\n",
    "df_DCs_cluster = df_DCs[[\"Pt\", \"Phenotype\", \"Cluster\"]]\n",
    "df_Cluster = df_DCs_cluster.dropna(subset=[\"Cluster\"])\n",
    "df_Cluster_clean = df_Cluster[~df_Cluster.Phenotype.isin([\"CD8+\",\"Others\"])]\n",
    "df_Cluster_pv = df_Cluster_clean.pivot_table(index=[\"Pt\",\"Cluster\"], columns=[\"Phenotype\"], \n",
    "aggfunc=lambda x: len(x))\n",
    "df_Cluster_pv.reset_index(inplace = True)\n",
    "df_Cluster_pv.insert(2, \"c_Type\", \"N\")\n",
    "df_Cluster_pv1 = df_Cluster_pv.fillna(0)\n",
    "df_Cluster_pv1.loc[(df_Cluster_pv1[\"CD1a+\"]+df_Cluster_pv1[\"CD1a+PD-L1+\"]+df_Cluster_pv1[\"CD1a+PD-L1-\"]==0),\"c_Type\"]=\"cDC1-h\"\n",
    "df_Cluster_pv1.loc[(df_Cluster_pv1[\"CD141+PD-L1+\"]+df_Cluster_pv1[\"CD141+PD-L1-\"]==0),\"c_Type\"]=\"CD1a-h\"\n",
    "df_Cluster_pv1.loc[(df_Cluster_pv1.Cluster== -1.0),\"c_Type\"]=\"iso\"\n",
    "df_Cluster_pv2 = df_Cluster_pv1.replace({\"c_Type\":{\"N\":\"Het\"}})\n",
    "df_Cluster_pv2.to_csv(\"C:/Data/DCs_results/c_Type.txt\")"
   ]
  }
 ],
 "metadata": {
  "kernelspec": {
   "display_name": "Python 3",
   "language": "python",
   "name": "python3"
  },
  "language_info": {
   "codemirror_mode": {
    "name": "ipython",
    "version": 3
   },
   "file_extension": ".py",
   "mimetype": "text/x-python",
   "name": "python",
   "nbconvert_exporter": "python",
   "pygments_lexer": "ipython3",
   "version": "3.8.2"
  }
 },
 "nbformat": 4,
 "nbformat_minor": 4
}
