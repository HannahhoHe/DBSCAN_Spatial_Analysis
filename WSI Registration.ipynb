{
 "cells": [
  {
   "cell_type": "code",
   "execution_count": null,
   "metadata": {},
   "outputs": [],
   "source": [
    "import warnings\n",
    "warnings.filterwarnings(\"ignore\")\n",
    "import pandas as pd\n",
    "from pathlib import Path\n",
    "import os\n",
    "import fnmatch\n",
    "import numpy as np\n",
    "from plotnine import *\n",
    "import matplotlib.pyplot as plt\n",
    "import seaborn as sns\n",
    "from descartes import PolygonPatch\n",
    "import alphashape\n",
    "from shapely.geometry import Point\n",
    "from shapely.geometry import Polygon\n",
    "from shapely.geometry import Point\n",
    "import math"
   ]
  },
  {
   "cell_type": "code",
   "execution_count": null,
   "metadata": {
    "scrolled": true
   },
   "outputs": [],
   "source": [
    "ProTcell_FolderLocation=r\"C:\\Users\\data\"  \n",
    "dir=Path(ProTcell_FolderLocation)\n",
    "os.chdir(ProTcell_FolderLocation)\n",
    "\n",
    "# Tcell\n",
    "for f in os.listdir(dir):\n",
    "    if f.endswith(\"_data.txt\"):\n",
    "        dfT=pd.read_csv(f,sep=\"\\t\")\n",
    "        if \"Sample Name\" in dfT.columns:\n",
    "            dfT=dfT[[\"Path\",\"Sample Name\", \"Phenotype\", \"Cell X Position NEW\",\"Cell Y Position NEW\"]]\n",
    "            dfT=dfT.rename(columns={\"Cell X Position NEW\":\"X\",\n",
    "                                   \"Cell Y Position NEW\":\"Y\"})\n",
    "        elif \"Sample.Name\" in dfT.columns:\n",
    "            dfT=dfT[[\"Path\",\"Sample.Name\", \"Phenotype\", \"Cell.X.Position.NEW\",\"Cell.Y.Position.NEW\"]]\n",
    "            dfT=dfT.rename(columns={\"Sample.Name\":\"Sample Name\",\n",
    "                                   \"Cell.X.Position.NEW\":\"X\",\n",
    "                                   \"Cell.Y.Position.NEW\":\"Y\"})\n",
    "        dfT[\"Path\"] = dfT[\"Sample Name\"][0].split(\"x\")[0].replace(\" \",\"\")\n",
    "        #dfT[\"Path\"] = dfT[\"Sample Name\"][0].split(\"_\")[0].replace(\" \",\"\")\n",
    "        dfT = dfT.dropna(subset=[\"Phenotype\"])\n",
    "        cDC1WSI_FolderLocation=r\"C:\\Users\\data\\2\"  \n",
    "        dfT.reset_index(inplace=True)\n",
    "        dir=Path(cDC1WSI_FolderLocation)\n",
    "        for f in os.listdir(dir):\n",
    "            if fnmatch.fnmatch(f, \"*\"+dfT[\"Path\"][1]+\"*\"):\n",
    "                dfcDC1WSI=pd.read_csv(cDC1WSI_FolderLocation+\"\\\\\"+f,sep=\"\\t\")\n",
    "                if \"Sample Name\" in dfcDC1WSI.columns:\n",
    "                    dfcDC1WSI=dfcDC1WSI[[\"Path\",\"Sample Name\", \"Phenotype\", \"Cell X Position NEW\",\"Cell Y Position NEW\"]]\n",
    "                    dfcDC1WSI=dfcDC1WSI.rename(columns={\"Cell X Position NEW\":\"X\",\n",
    "                                           \"Cell Y Position NEW\":\"Y\"})\n",
    "                elif \"Sample.Name\" in dfcDC1WSI.columns:\n",
    "                    dfcDC1WSI=dfcDC1WSI[[\"Path\",\"Sample.Name\", \"Phenotype\", \"Cell.X.Position\",\"Cell.Y.Position\"]]\n",
    "                    dfcDC1WSI=dfcDC1WSI.rename(columns={\"Sample.Name\":\"Sample Name\",\n",
    "                                                   \"Cell.X.Position\":\"X\",\n",
    "                                                   \"Cell.Y.Position\":\"Y\"})\n",
    "                dfcDC1WSI[\"Path\"] = dfT[\"Sample Name\"][1].split(\"x\")[0].replace(\" \",\"\")\n",
    "                dfcDC1WSI = dfcDC1WSI.dropna(subset=[\"Phenotype\"])\n",
    "            "
   ]
  },
  {
   "cell_type": "code",
   "execution_count": null,
   "metadata": {
    "scrolled": true
   },
   "outputs": [],
   "source": [
    "###Adjust wsr8:\n",
    "####translational adjust\n",
    "xa=0\n",
    "ya=0\n",
    "newX=dfT.X+xa\n",
    "newY=dfT.Y+ya\n",
    "x0=0\n",
    "y0=0\n",
    "degrees=0\n",
    "\n",
    "####rotational adjust\n",
    "def rotate(p, origin=(0, 0), degrees=0):\n",
    "    angle = np.deg2rad(degrees)\n",
    "    R = np.array([[np.cos(angle), -np.sin(angle)],\n",
    "                  [np.sin(angle),  np.cos(angle)]])\n",
    "    o = np.atleast_2d(origin)\n",
    "    p = np.atleast_2d(p)\n",
    "    return np.squeeze((R @ (p.T-o.T) + o.T).T)\n",
    "\n",
    "points=list(zip(newX, newY))\n",
    "origin=(x0,y0)\n",
    "new_points = rotate(points, origin=origin, degrees=degrees)\n",
    "\n",
    "\n",
    "###plotting\n",
    "###tranlational only\n",
    "plt.figure()\n",
    "plt.scatter(dfcDC1WSI.X, dfcDC1WSI.Y, color=\"grey\")\n",
    "plt.scatter(*zip(*points), color=\"r\", alpha=0.02)  \n",
    "plt.grid()\n",
    "plt.show()\n",
    "\n",
    "###tranlational+rotational \n",
    "fig=plt.figure()\n",
    "plt.scatter(dfcDC1WSI.X, dfcDC1WSI.Y, color=\"grey\")\n",
    "plt.scatter(*zip(*new_points), color=\"r\", alpha=0.02)  \n",
    "plt.grid()\n",
    "plt.show()"
   ]
  },
  {
   "cell_type": "code",
   "execution_count": null,
   "metadata": {},
   "outputs": [],
   "source": [
    "# output\n",
    "dfNewT=dfT[[\"Sample Name\",\"Phenotype\"]]\n",
    "dfNewT[\"X\"]=list(zip(*new_points))[0]\n",
    "dfNewT[\"Y\"]=list(zip(*new_points))[1]\n",
    "dfNewT = dfNewT.round(1)\n",
    "dfTrimT=dfNewT[(dfNewT.X>0)&(dfNewT.X<20000)&(dfNewT.Y>0)]\n",
    "#sns.scatterplot(x=\"X\", y=\"Y\", hue=\"Phenotype\", size=0.1,data = dfTrimT)\n",
    "dfTrimT.to_csv(r\"C:\\Users\\data\\output\"+ \"\\\\\"+dfT[\"Path\"][1]+\".txt\")\n",
    "register = pd.DataFrame({\"deltaX\":xa,\"deltaY\":ya, \"rotation_degree\":degrees,\"originX\":x0, \"originY\":[y0]})\n",
    "register.to_csv(r\"C:\\Users\\data\\output\"+ \"\\\\\"+\n",
    "                \"reg_par_\"+dfT[\"Path\"][1]+\".csv\")"
   ]
  },
  {
   "cell_type": "code",
   "execution_count": null,
   "metadata": {},
   "outputs": [],
   "source": []
  }
 ],
 "metadata": {
  "kernelspec": {
   "display_name": "Python 3",
   "language": "python",
   "name": "python3"
  },
  "language_info": {
   "codemirror_mode": {
    "name": "ipython",
    "version": 3
   },
   "file_extension": ".py",
   "mimetype": "text/x-python",
   "name": "python",
   "nbconvert_exporter": "python",
   "pygments_lexer": "ipython3",
   "version": "3.8.5"
  }
 },
 "nbformat": 4,
 "nbformat_minor": 2
}
